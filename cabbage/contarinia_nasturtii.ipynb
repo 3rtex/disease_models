{
 "cells": [
  {
   "cell_type": "markdown",
   "source": [
    "# Contarinia nasturtii on cabbage models\n",
    "We will implement atleast one model explained in the `état de l'art` of the contarinia nasturtii (cécidomyie du chou).\n",
    "\n",
    "The model name is the \"Contapré\" european model. The second goal in case \"Contapré\" is not successful is to try to implement the model \"MidgEmerge\".\n",
    "\n",
    "**Note: No data at the moment, so hard to try the model. It needs improvements.**"
   ],
   "metadata": {}
  },
  {
   "cell_type": "code",
   "execution_count": null,
   "source": [
    "import pandas as pd\n",
    "import numpy as np\n",
    "import matplotlib.pyplot as plt\n",
    "\n",
    "# Read excel or csv, sort data by date\n",
    "df = pd.read_excel(\"___.xls\", engine='xlrd')\n",
    "df = pd.read_csv(\"___.csv\")\n",
    "\n",
    "df.sort_values(by=[\"date\"], inplace=True)\n",
    "\n",
    "plt.rcParams['figure.figsize'] = [15,10]\n",
    "\n",
    "# Show columns\n",
    "print(\"Number of element (hours): \", df[\"date\"].size, \"\\nColumns: \", df.columns)"
   ],
   "outputs": [],
   "metadata": {}
  },
  {
   "cell_type": "markdown",
   "source": [
    "## Contapré model\n",
    "The accumulation of DD in the Contapré model (Bouma, 1996) begins when the daily maximum soil temperature at 5cm depth exceeds 20 °C and ≥11 mm of rain follows within 3 days (M Vlaswinkel, pers. comm.). First flight of swede midge was predicted to occur when thermal accumulations(C) exceeded that required for necessary insect development to occur, and was described by the following equation of the Contapré model:\n",
    "\n",
    "C = $\\sum_{t} (T_t - T_0)$\n",
    "\n",
    "where t = time (days), T = mean daily temperature at soil depth of 5 cm (°C), and T0 = base threshold of development (7.2 °C). C is calculated daily and summed to the previous day’s value. When C reaches 160 DD, adult emergence should occur. Successive flights occur when C again reaches 160 DD. In addition, if the mean daily temperature over 2 days falls below 15 °C, flight is delayed until the mean daily temperature rises above this value; and, if more than 25 mm of precipitation falls between 135–160 DD, adult flight will occur immediately (M Vlaswinkel, pers. comm.). \n",
    "\n",
    "\n",
    "**Questions:**\n",
    "- When do we reset the C ?\n",
    "\n",
    "**Notes:**\n",
    "- To be tested, we don't have any data at the moment"
   ],
   "metadata": {}
  },
  {
   "cell_type": "code",
   "execution_count": null,
   "source": [
    "def check_precipitation(df, i):\n",
    "    mm = 0.0\n",
    "    for j in range(1, 4):\n",
    "        mm += df.at[i+j, 'precipitation_mm']\n",
    "    if mm >= 1:\n",
    "        return True\n",
    "    return False\n",
    "\n",
    "\n",
    "def contapre(df):\n",
    "    df['contapre'] = 0  # add column for our results\n",
    "\n",
    "    n = 0\n",
    "    total_dt = 0.0  # avg temp of the day\n",
    "    above20 = False\n",
    "    t0 = 7.2\n",
    "    c = 0 # never reset ?\n",
    "\n",
    "    for i, row in df.iterrows():\n",
    "\n",
    "        n += 1\n",
    "        total_dt += row['air_temp_celsius_avg']\n",
    "        above20 = above20 or row['air_temp_celsius_max'] > 20\n",
    "\n",
    "        # if end of the day\n",
    "        if (row['date'].endswith('23:00:00') or row['date'].endswith('23:00')) and above20 and check_precipitation(df, i):\n",
    "            c += total_dt / n - t0\n",
    "            df.at[i, 'contapre'] = c\n",
    "            df.loc[df['date'].str.startswith(row['date'].split(' ')[0]), [\n",
    "                'contapre']] = df.at[i, 'contapre']  # update all rows of the day\n",
    "\n",
    "            # prepare next day\n",
    "            n = 0\n",
    "            total_dt = 0\n",
    "            above20 = False\n",
    "\n",
    "\n",
    "contapre(df)  # call model for df\n",
    "\n",
    "# Display results\n",
    "plot = df.plot(x=\"date\", y=\"contapre\", rot=80)\n",
    "xdate = [item.get_text()[:10]\n",
    "         for item in plot.get_xticklabels()]\n",
    "_ = plot.set_xticklabels(xdate)\n",
    "# there is risk of insects above the red line\n",
    "_ = plt.axhline(160, color='red', linestyle='--')\n"
   ],
   "outputs": [],
   "metadata": {}
  },
  {
   "cell_type": "markdown",
   "source": [
    "# MidgEmerge\n",
    "\n",
    "Model explained in [one of the annex of the état de l'art](https://atrium.lib.uoguelph.ca/xmlui/bitstream/handle/10214/2488/7287844341381563653.pdf;sequence=1).\n",
    "\n",
    "Doesn't really give a lot about the model parameter, it explains how to detect each part of the insect development (egg, larva, pupal, adult) and what to look for (temperature, ...) but I think there is missing some information to be able to replicate their model.\n",
    "\n",
    "It's still possible to give it a try, but it's probably best to first test the Contapré model with some data and to compare the model results with the observation on the field."
   ],
   "metadata": {}
  }
 ],
 "metadata": {
  "orig_nbformat": 4,
  "language_info": {
   "name": "python",
   "version": "3.9.7",
   "mimetype": "text/x-python",
   "codemirror_mode": {
    "name": "ipython",
    "version": 3
   },
   "pygments_lexer": "ipython3",
   "nbconvert_exporter": "python",
   "file_extension": ".py"
  },
  "kernelspec": {
   "name": "python3",
   "display_name": "Python 3.9.7 64-bit"
  },
  "interpreter": {
   "hash": "e7370f93d1d0cde622a1f8e1c04877d8463912d04d973331ad4851f04de6915a"
  }
 },
 "nbformat": 4,
 "nbformat_minor": 2
}